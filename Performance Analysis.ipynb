{
 "cells": [
  {
   "cell_type": "code",
   "execution_count": 6,
   "metadata": {},
   "outputs": [],
   "source": [
    "# Import relevant libraries and modules\n",
    "# Data analysis\n",
    "import pandas as pd\n",
    "import sklearn as sk\n",
    "import seaborn as sns\n",
    "import numpy as np\n",
    "import csv\n",
    "import numpy as np\n",
    "import pandas as pd\n",
    "import datetime\n",
    "from sklearn.model_selection import train_test_split\n",
    "import sklearn.linear_model as lm\n",
    "from sklearn.pipeline import Pipeline\n",
    "from sklearn.model_selection import cross_val_score\n",
    "from sklearn.preprocessing import StandardScaler\n",
    "from sklearn.linear_model import Ridge\n",
    "\n",
    "# Visualization\n",
    "import matplotlib.pyplot as plt\n",
    "import seaborn as sns"
   ]
  },
  {
   "cell_type": "code",
   "execution_count": 20,
   "metadata": {},
   "outputs": [
    {
     "data": {
      "text/html": [
       "<div>\n",
       "<style scoped>\n",
       "    .dataframe tbody tr th:only-of-type {\n",
       "        vertical-align: middle;\n",
       "    }\n",
       "\n",
       "    .dataframe tbody tr th {\n",
       "        vertical-align: top;\n",
       "    }\n",
       "\n",
       "    .dataframe thead th {\n",
       "        text-align: right;\n",
       "    }\n",
       "</style>\n",
       "<table border=\"1\" class=\"dataframe\">\n",
       "  <thead>\n",
       "    <tr style=\"text-align: right;\">\n",
       "      <th></th>\n",
       "      <th>Location number</th>\n",
       "      <th>Month</th>\n",
       "      <th>State</th>\n",
       "      <th>Gross revenue</th>\n",
       "      <th>Fixed cost</th>\n",
       "      <th>Variable cost</th>\n",
       "      <th>Rental cost</th>\n",
       "      <th>Number of products</th>\n",
       "      <th>Owned</th>\n",
       "    </tr>\n",
       "  </thead>\n",
       "  <tbody>\n",
       "    <tr>\n",
       "      <th>0</th>\n",
       "      <td>1</td>\n",
       "      <td>1</td>\n",
       "      <td>TX</td>\n",
       "      <td>48628171.02</td>\n",
       "      <td>9218156.69</td>\n",
       "      <td>24278189.23</td>\n",
       "      <td>365880</td>\n",
       "      <td>4452</td>\n",
       "      <td>False</td>\n",
       "    </tr>\n",
       "    <tr>\n",
       "      <th>1</th>\n",
       "      <td>1</td>\n",
       "      <td>2</td>\n",
       "      <td>TX</td>\n",
       "      <td>48107179.24</td>\n",
       "      <td>10587747.35</td>\n",
       "      <td>25116844.41</td>\n",
       "      <td>365880</td>\n",
       "      <td>4452</td>\n",
       "      <td>False</td>\n",
       "    </tr>\n",
       "    <tr>\n",
       "      <th>2</th>\n",
       "      <td>1</td>\n",
       "      <td>3</td>\n",
       "      <td>TX</td>\n",
       "      <td>64352278.29</td>\n",
       "      <td>10193873.77</td>\n",
       "      <td>33703499.83</td>\n",
       "      <td>365880</td>\n",
       "      <td>4452</td>\n",
       "      <td>False</td>\n",
       "    </tr>\n",
       "    <tr>\n",
       "      <th>3</th>\n",
       "      <td>1</td>\n",
       "      <td>4</td>\n",
       "      <td>TX</td>\n",
       "      <td>45943677.96</td>\n",
       "      <td>8764165.00</td>\n",
       "      <td>24037719.47</td>\n",
       "      <td>365880</td>\n",
       "      <td>4452</td>\n",
       "      <td>False</td>\n",
       "    </tr>\n",
       "    <tr>\n",
       "      <th>4</th>\n",
       "      <td>1</td>\n",
       "      <td>5</td>\n",
       "      <td>TX</td>\n",
       "      <td>32761434.98</td>\n",
       "      <td>8022116.43</td>\n",
       "      <td>16432119.18</td>\n",
       "      <td>365880</td>\n",
       "      <td>4452</td>\n",
       "      <td>False</td>\n",
       "    </tr>\n",
       "  </tbody>\n",
       "</table>\n",
       "</div>"
      ],
      "text/plain": [
       "   Location number  Month State  Gross revenue   Fixed cost  Variable cost  \\\n",
       "0                1      1    TX    48628171.02   9218156.69    24278189.23   \n",
       "1                1      2    TX    48107179.24  10587747.35    25116844.41   \n",
       "2                1      3    TX    64352278.29  10193873.77    33703499.83   \n",
       "3                1      4    TX    45943677.96   8764165.00    24037719.47   \n",
       "4                1      5    TX    32761434.98   8022116.43    16432119.18   \n",
       "\n",
       "   Rental cost  Number of products  Owned  \n",
       "0       365880                4452  False  \n",
       "1       365880                4452  False  \n",
       "2       365880                4452  False  \n",
       "3       365880                4452  False  \n",
       "4       365880                4452  False  "
      ]
     },
     "execution_count": 20,
     "metadata": {},
     "output_type": "execute_result"
    }
   ],
   "source": [
    "# Import retail store dataset\n",
    "retail_ds = pd.read_csv('summer_internship_takehome.csv')\n",
    "retail_ds.head()"
   ]
  },
  {
   "cell_type": "markdown",
   "metadata": {},
   "source": [
    "# I. Summary statistics and plots"
   ]
  },
  {
   "cell_type": "code",
   "execution_count": 97,
   "metadata": {},
   "outputs": [
    {
     "name": "stdout",
     "output_type": "stream",
     "text": [
      "Mean:  0.2486322925670752\n",
      "Median:  0.26184928404393765\n"
     ]
    },
    {
     "data": {
      "image/png": "[encoded data removed]",
      "text/plain": [
       "<Figure size 432x288 with 1 Axes>"
      ]
     },
     "metadata": {
      "needs_background": "light"
     },
     "output_type": "display_data"
    }
   ],
   "source": [
    "# Group rows by location\n",
    "retail_grouped = retail_ds.groupby('Location number').sum().drop(columns={'Month', 'Number of products', 'Owned'})\n",
    "\n",
    "# Add profit margin column\n",
    "retail_grouped['Profit margin'] = (retail_grouped['Gross revenue'] - \n",
    "                                   retail_grouped['Fixed cost'] - \n",
    "                                   retail_grouped['Variable cost'] - \n",
    "                                   retail_grouped['Rental cost']) / retail_grouped['Gross revenue']\n",
    "\n",
    "# Calculate mean and median annual profit margin\n",
    "print(\"Mean: \", np.average(retail_grouped['Profit margin']))\n",
    "print(\"Median: \", np.median(retail_grouped['Profit margin']))\n",
    "\n",
    "# Visualize annual profit margin distribution\n",
    "sns.distplot(retail_grouped['Profit margin']);\n",
    "\n",
    "\n"
   ]
  },
  {
   "cell_type": "code",
   "execution_count": 104,
   "metadata": {},
   "outputs": [
    {
     "data": {
      "image/png": "[encoded data removed]",
      "text/plain": [
       "<Figure size 432x288 with 1 Axes>"
      ]
     },
     "metadata": {
      "needs_background": "light"
     },
     "output_type": "display_data"
    }
   ],
   "source": [
    "retail_monthly = retail_ds.groupby('Month').sum().drop(columns={'Location number', 'Fixed cost', 'Variable cost', 'Rental cost', 'Number of products', 'Owned'})\n",
    "sns.barplot(x=retail_monthly.index, y=retail_monthly['Gross revenue']);"
   ]
  },
  {
   "cell_type": "code",
   "execution_count": 121,
   "metadata": {},
   "outputs": [
    {
     "ename": "TypeError",
     "evalue": "unsupported operand type(s) for +: 'int' and 'str'",
     "output_type": "error",
     "traceback": [
      "\u001b[0;31m---------------------------------------------------------------------------\u001b[0m",
      "\u001b[0;31mTypeError\u001b[0m                                 Traceback (most recent call last)",
      "\u001b[0;32m<ipython-input-121-37a3eb9966ff>\u001b[0m in \u001b[0;36m<module>\u001b[0;34m\u001b[0m\n\u001b[1;32m      1\u001b[0m \u001b[0;31m#[sum(retail_monthly.iloc[i:i+3]) for i in [0,3,6,9]]\u001b[0m\u001b[0;34m\u001b[0m\u001b[0;34m\u001b[0m\u001b[0;34m\u001b[0m\u001b[0m\n\u001b[0;32m----> 2\u001b[0;31m \u001b[0msum\u001b[0m\u001b[0;34m(\u001b[0m\u001b[0mretail_monthly\u001b[0m\u001b[0;34m.\u001b[0m\u001b[0miloc\u001b[0m\u001b[0;34m[\u001b[0m\u001b[0;36m0\u001b[0m\u001b[0;34m:\u001b[0m\u001b[0;36m0\u001b[0m\u001b[0;34m+\u001b[0m\u001b[0;36m3\u001b[0m\u001b[0;34m]\u001b[0m\u001b[0;34m)\u001b[0m\u001b[0;34m\u001b[0m\u001b[0;34m\u001b[0m\u001b[0m\n\u001b[0m",
      "\u001b[0;31mTypeError\u001b[0m: unsupported operand type(s) for +: 'int' and 'str'"
     ]
    }
   ],
   "source": [
    "#[sum(retail_monthly.iloc[i:i+3]) for i in [0,3,6,9]]\n",
    "sum(retail_monthly.iloc[0:0+3])"
   ]
  },
  {
   "cell_type": "code",
   "execution_count": 123,
   "metadata": {},
   "outputs": [
    {
     "data": {
      "image/png": "[encoded data removed]",
      "text/plain": [
       "<Figure size 432x288 with 1 Axes>"
      ]
     },
     "metadata": {
      "needs_background": "light"
     },
     "output_type": "display_data"
    }
   ],
   "source": [
    "retail_quarterly = pd.DataFrame(\n",
    "    data = {'Gross revenue' : [sum(retail_monthly.iloc[i:i+3, 0]) for i in [0,3,6,9]]}, columns=['Gross revenue']\n",
    ")\n",
    "sns.barplot(x=retail_quarterly.index, y=retail_quarterly['Gross revenue']);"
   ]
  },
  {
   "cell_type": "markdown",
   "metadata": {},
   "source": [
    "# II. Cleaning the data"
   ]
  },
  {
   "cell_type": "markdown",
   "metadata": {},
   "source": [
    "# III. Quantify drivers of success"
   ]
  },
  {
   "cell_type": "code",
   "execution_count": null,
   "metadata": {},
   "outputs": [],
   "source": []
  }
 ],
 "metadata": {
  "kernelspec": {
   "display_name": "Python 3",
   "language": "python",
   "name": "python3"
  },
  "language_info": {
   "codemirror_mode": {
    "name": "ipython",
    "version": 3
   },
   "file_extension": ".py",
   "mimetype": "text/x-python",
   "name": "python",
   "nbconvert_exporter": "python",
   "pygments_lexer": "ipython3",
   "version": "3.7.7"
  }
 },
 "nbformat": 4,
 "nbformat_minor": 4
}
